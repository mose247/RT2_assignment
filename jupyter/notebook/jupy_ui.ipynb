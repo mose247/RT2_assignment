{
 "cells": [
  {
   "cell_type": "markdown",
   "id": "da579b10",
   "metadata": {},
   "source": [
    "# Jupyter notebook used for controlling a ROS simulation"
   ]
  },
  {
   "cell_type": "markdown",
   "id": "27504970",
   "metadata": {},
   "source": [
    "## Imports\n",
    "To begin with, the next block of code is used for importing, once for all, the libraries that will be needed in the following scripts."
   ]
  },
  {
   "cell_type": "code",
   "execution_count": 1,
   "id": "c514e5a6",
   "metadata": {
    "ExecuteTime": {
     "end_time": "2022-05-08T13:25:11.374240Z",
     "start_time": "2022-05-08T13:25:03.531700Z"
    }
   },
   "outputs": [],
   "source": [
    "import rospy\n",
    "import actionlib\n",
    "import tf\n",
    "\n",
    "from geometry_msgs.msg import Twist\n",
    "from sensor_msgs.msg import LaserScan\n",
    "from move_base_msgs.msg import MoveBaseAction, MoveBaseGoal\n",
    "from actionlib_msgs.msg import GoalStatusArray\n",
    "from nav_msgs.msg import Odometry\n",
    "from tf.transformations import *\n",
    "\n",
    "import jupyros as jr\n",
    "from jupyros import ros3d\n",
    "import ipywidgets as widgets\n",
    "from ipywidgets import interact, interactive, fixed, interact_manual\n",
    "from IPython.display import display\n",
    "from __future__ import print_function\n",
    "\n",
    "import matplotlib.pyplot as plt\n",
    "from matplotlib.animation import FuncAnimation\n",
    "import numpy as np\n",
    "import math\n",
    "import time"
   ]
  },
  {
   "cell_type": "markdown",
   "id": "06282dd2",
   "metadata": {},
   "source": [
    "## User Interface to select the driving modalities\n",
    "\n",
    "To begin with, it is defined the global variable _driving_mode_ to keep track of the current modality selected by the user. The variable is initialized to the default value _'none'_ since no choice is already taken at this point."
   ]
  },
  {
   "cell_type": "code",
   "execution_count": 2,
   "id": "8537477c",
   "metadata": {
    "ExecuteTime": {
     "end_time": "2022-05-08T13:25:11.432507Z",
     "start_time": "2022-05-08T13:25:11.413207Z"
    }
   },
   "outputs": [],
   "source": [
    "driving_mode = 'none'"
   ]
  },
  {
   "cell_type": "markdown",
   "id": "25f14c08",
   "metadata": {},
   "source": [
    "In the following are defined the three main buttons with which the user will be able to change the driving modality. Plus, it is also declared an output widget to display the current state of the variable _driving_mode_."
   ]
  },
  {
   "cell_type": "code",
   "execution_count": 3,
   "id": "d9e6c716",
   "metadata": {
    "ExecuteTime": {
     "end_time": "2022-05-08T13:25:11.685765Z",
     "start_time": "2022-05-08T13:25:11.457766Z"
    }
   },
   "outputs": [],
   "source": [
    "b1 = widgets.Button(description=\"Autonomous\")\n",
    "b2 = widgets.Button(description=\"Manual\")\n",
    "b3 = widgets.Button(description=\"Assisted\")\n",
    "out = widgets.Output(layout={'border':'2px solid black'})"
   ]
  },
  {
   "cell_type": "markdown",
   "id": "eea18599",
   "metadata": {},
   "source": [
    "At this point, in the following block of code, are defined the callback functions associated to the buttons."
   ]
  },
  {
   "cell_type": "code",
   "execution_count": 4,
   "id": "bdd324e8",
   "metadata": {
    "ExecuteTime": {
     "end_time": "2022-05-08T13:25:11.750320Z",
     "start_time": "2022-05-08T13:25:11.699146Z"
    }
   },
   "outputs": [],
   "source": [
    "def b1_clicked(b1):\n",
    "    global driving_mode\n",
    "    driving_mode = 'automatic'\n",
    "    with out:\n",
    "        out.clear_output()\n",
    "        print('Driving mode: ', driving_mode)\n",
    "        \n",
    "def b2_clicked(b2):\n",
    "    global driving_mode\n",
    "    driving_mode = 'manual'\n",
    "    with out:\n",
    "        out.clear_output()\n",
    "        print('Driving mode: ', driving_mode)\n",
    "\n",
    "def b3_clicked(b3):\n",
    "    global driving_mode\n",
    "    driving_mode = 'assisted'\n",
    "    with out:\n",
    "        out.clear_output()\n",
    "        print('Driving mode: ', driving_mode)\n",
    "        \n",
    "# Associate to each button its corrispective callback\n",
    "b1.on_click(b1_clicked)\n",
    "b2.on_click(b2_clicked)\n",
    "b3.on_click(b3_clicked)"
   ]
  },
  {
   "cell_type": "markdown",
   "id": "91a29611",
   "metadata": {},
   "source": [
    "Finally, here are displayed the three interactive buttons."
   ]
  },
  {
   "cell_type": "code",
   "execution_count": 5,
   "id": "fdf6bf1c",
   "metadata": {
    "ExecuteTime": {
     "end_time": "2022-05-08T13:25:11.899800Z",
     "start_time": "2022-05-08T13:25:11.767094Z"
    }
   },
   "outputs": [
    {
     "data": {
      "application/vnd.jupyter.widget-view+json": {
       "model_id": "cce4845707ac4231abb071551e60a87c",
       "version_major": 2,
       "version_minor": 0
      },
      "text/plain": [
       "HBox(children=(Button(description='Autonomous', style=ButtonStyle()), Button(description='Manual', style=Butto…"
      ]
     },
     "metadata": {},
     "output_type": "display_data"
    }
   ],
   "source": [
    "widgets.HBox([b1, b2, b3])"
   ]
  },
  {
   "cell_type": "markdown",
   "id": "fbcc70b8",
   "metadata": {},
   "source": [
    "And here it is the output window that allows to monitor which is the current modality selected."
   ]
  },
  {
   "cell_type": "code",
   "execution_count": 6,
   "id": "4525698b",
   "metadata": {
    "ExecuteTime": {
     "end_time": "2022-05-08T13:25:11.982709Z",
     "start_time": "2022-05-08T13:25:11.916724Z"
    }
   },
   "outputs": [
    {
     "data": {
      "application/vnd.jupyter.widget-view+json": {
       "model_id": "8b5e623eeee846f3a12ac9f172127f16",
       "version_major": 2,
       "version_minor": 0
      },
      "text/plain": [
       "Output(layout=Layout(border='2px solid black'))"
      ]
     },
     "metadata": {},
     "output_type": "display_data"
    }
   ],
   "source": [
    "display(out)"
   ]
  },
  {
   "cell_type": "markdown",
   "id": "265bf82a",
   "metadata": {},
   "source": [
    "## Implementation of the driving modalities\n",
    "\n",
    "First of all we initialize a new ros node, called _jupy_ui_."
   ]
  },
  {
   "cell_type": "code",
   "execution_count": 7,
   "id": "38b87cf3",
   "metadata": {
    "ExecuteTime": {
     "end_time": "2022-05-08T13:25:12.790325Z",
     "start_time": "2022-05-08T13:25:12.004997Z"
    }
   },
   "outputs": [],
   "source": [
    "rospy.init_node('jupy_ui')"
   ]
  },
  {
   "cell_type": "markdown",
   "id": "856035e2",
   "metadata": {},
   "source": [
    "In order to move the robot inside the simulation environment, the velocity messages published on the _/cmd_vel_ topic are taken into account. Therefore, first of all, we need to define a publisher to that topic. Then, the purpose of the interface should be choosing which message to publish depending on the driving modality that has been selected."
   ]
  },
  {
   "cell_type": "code",
   "execution_count": 8,
   "id": "ab7b32cb",
   "metadata": {
    "ExecuteTime": {
     "end_time": "2022-05-08T13:25:12.893115Z",
     "start_time": "2022-05-08T13:25:12.826021Z"
    }
   },
   "outputs": [],
   "source": [
    "pub1 = rospy.Publisher('/cmd_vel', Twist, queue_size= 1)"
   ]
  },
  {
   "cell_type": "markdown",
   "id": "80371d60",
   "metadata": {},
   "source": [
    "In the next block of code are defined the callback functions to be associated to three subscribers to some custom topics: _/autonomous/cmd_vel_, _/manual/cmd_vel_ and _/assisted/cmd_vel_. The purpose of these topics is not to publish the velocity messages directly on _/cmd_vel_ but rather on some intermediate topics. Then, depending on the driving mode selected, the messages on the corresponding topic can be further published also on _/cmd_vel_."
   ]
  },
  {
   "cell_type": "code",
   "execution_count": 9,
   "id": "9f9e9b06",
   "metadata": {
    "ExecuteTime": {
     "end_time": "2022-05-08T13:25:12.962140Z",
     "start_time": "2022-05-08T13:25:12.914198Z"
    }
   },
   "outputs": [],
   "source": [
    "def auto_callback(msg):\n",
    "    global driving_mode\n",
    "    if driving_mode == 'automatic':\n",
    "        pub1.publish(msg)\n",
    "\n",
    "def man_callback(msg):\n",
    "    global driving_mode\n",
    "    if driving_mode == 'manual':\n",
    "        pub1.publish(msg)\n",
    "\n",
    "def ass_callback(msg):\n",
    "    global driving_mode\n",
    "    if driving_mode == 'assisted':\n",
    "        pub1.publish(msg)"
   ]
  },
  {
   "cell_type": "markdown",
   "id": "fe37613b",
   "metadata": {},
   "source": [
    "Here we finally initialize the subscribers."
   ]
  },
  {
   "cell_type": "code",
   "execution_count": 10,
   "id": "1639471f",
   "metadata": {
    "ExecuteTime": {
     "end_time": "2022-05-08T13:25:13.081000Z",
     "start_time": "2022-05-08T13:25:12.999379Z"
    }
   },
   "outputs": [],
   "source": [
    "sub1 = rospy.Subscriber('/automatic/cmd_vel', Twist, auto_callback)\n",
    "sub2 = rospy.Subscriber('/manual/cmd_vel', Twist, man_callback)\n",
    "sub3 = rospy.Subscriber('/assisted/cmd_vel', Twist, ass_callback)"
   ]
  },
  {
   "cell_type": "markdown",
   "id": "b7bed29f",
   "metadata": {},
   "source": [
    "### Autonomous modality interface\n",
    "\n",
    "When the user selects the autonomous mode through one of the three buttons above, the _move_base_ node expects to receive the goal position to be reached inside the map. Therefore, to send such goal, it is necessary to define an action client. notice that, after its initialization, the client waits for the server that will manage its requests to be available."
   ]
  },
  {
   "cell_type": "code",
   "execution_count": 11,
   "id": "dabc0472",
   "metadata": {
    "ExecuteTime": {
     "end_time": "2022-05-08T13:25:13.485614Z",
     "start_time": "2022-05-08T13:25:13.117329Z"
    }
   },
   "outputs": [
    {
     "data": {
      "text/plain": [
       "True"
      ]
     },
     "execution_count": 11,
     "metadata": {},
     "output_type": "execute_result"
    }
   ],
   "source": [
    "client = actionlib.SimpleActionClient('move_base', MoveBaseAction)\n",
    "client.wait_for_server()"
   ]
  },
  {
   "cell_type": "markdown",
   "id": "2baf5843",
   "metadata": {},
   "source": [
    "At this point, we can define the structure of the goal message. Since some of its parts are constant, it is possible to fill them already."
   ]
  },
  {
   "cell_type": "code",
   "execution_count": 12,
   "id": "7c2c4322",
   "metadata": {
    "ExecuteTime": {
     "end_time": "2022-05-08T13:25:13.524275Z",
     "start_time": "2022-05-08T13:25:13.502764Z"
    }
   },
   "outputs": [],
   "source": [
    "goal = MoveBaseGoal()\n",
    "goal.target_pose.header.frame_id = \"map\"\n",
    "goal.target_pose.header.stamp = rospy.Time.now()\n",
    "goal.target_pose.pose.orientation.w = 1.0      "
   ]
  },
  {
   "cell_type": "markdown",
   "id": "34a51481",
   "metadata": {},
   "source": [
    "In the next block of code is then defined the function that will be used to send the goal position (x,y)."
   ]
  },
  {
   "cell_type": "code",
   "execution_count": 13,
   "id": "c07358f1",
   "metadata": {
    "ExecuteTime": {
     "end_time": "2022-05-08T13:25:13.614723Z",
     "start_time": "2022-05-08T13:25:13.553743Z"
    }
   },
   "outputs": [],
   "source": [
    "def send_goal(x, y):\n",
    "    client.cancel_goal()\n",
    "    print(\"Current goal: (\", x, \",\", y,\")\")\n",
    "    goal.target_pose.pose.position.x = x\n",
    "    goal.target_pose.pose.position.y = y\n",
    "    client.send_goal(goal)"
   ]
  },
  {
   "cell_type": "markdown",
   "id": "f62f52ee",
   "metadata": {},
   "source": [
    "Finally, here there is the code that allows the user to choose a goal interactively through two sliders. Each time that the user interacts with the widgets, the function _send_goal()_ will be called and a new goal will be sent to the _move_base_ node. Remember that, in order to successfully read the velocity messages that the _move_base_ node will generate, the user should make sure to have previously selected the autonomous mode through the dedicated button."
   ]
  },
  {
   "cell_type": "code",
   "execution_count": 14,
   "id": "964fbe55",
   "metadata": {
    "ExecuteTime": {
     "end_time": "2022-05-08T13:25:13.988236Z",
     "start_time": "2022-05-08T13:25:13.631703Z"
    },
    "scrolled": false
   },
   "outputs": [
    {
     "data": {
      "application/vnd.jupyter.widget-view+json": {
       "model_id": "6d6cbb14bb8b48708b35a74d9a450d0f",
       "version_major": 2,
       "version_minor": 0
      },
      "text/plain": [
       "interactive(children=(IntSlider(value=0, description='Select x:', max=12, min=-12), IntSlider(value=0, descrip…"
      ]
     },
     "metadata": {},
     "output_type": "display_data"
    }
   ],
   "source": [
    "x_slider = widgets.IntSlider(min=-12, max=12, step=1, value=0, description=\"Select x:\")\n",
    "y_slider = widgets.IntSlider(min=-12, max=12, step=1, value=0, description=\"Select y:\")\n",
    "    \n",
    "interact(send_goal, x=x_slider, y=y_slider);"
   ]
  },
  {
   "cell_type": "markdown",
   "id": "115ec3af",
   "metadata": {},
   "source": [
    "### Goal's status"
   ]
  },
  {
   "cell_type": "code",
   "execution_count": 15,
   "id": "c1712a08",
   "metadata": {
    "ExecuteTime": {
     "end_time": "2022-05-08T13:25:14.029836Z",
     "start_time": "2022-05-08T13:25:14.007386Z"
    }
   },
   "outputs": [],
   "source": [
    "reached = 0\n",
    "not_reached = 0"
   ]
  },
  {
   "cell_type": "code",
   "execution_count": 16,
   "id": "1f68f432",
   "metadata": {
    "ExecuteTime": {
     "end_time": "2022-05-08T13:25:14.089997Z",
     "start_time": "2022-05-08T13:25:14.057241Z"
    }
   },
   "outputs": [],
   "source": [
    "flag1 = False\n",
    "flag2 = False"
   ]
  },
  {
   "cell_type": "code",
   "execution_count": 17,
   "id": "94d73893",
   "metadata": {
    "ExecuteTime": {
     "end_time": "2022-05-08T13:25:14.218745Z",
     "start_time": "2022-05-08T13:25:14.129893Z"
    }
   },
   "outputs": [],
   "source": [
    "out_goal = widgets.Output(layout={'border':'2px solid black'})"
   ]
  },
  {
   "cell_type": "code",
   "execution_count": 18,
   "id": "30820d26",
   "metadata": {
    "ExecuteTime": {
     "end_time": "2022-05-08T13:25:14.316088Z",
     "start_time": "2022-05-08T13:25:14.246541Z"
    }
   },
   "outputs": [],
   "source": [
    "def status_callback(msg):\n",
    "    global reached, not_reached, flag1, flag2\n",
    "    \n",
    "    # get the length of the goals' status list\n",
    "    l = len(msg.status_list)\n",
    "    \n",
    "    if l<=1:  \n",
    "        # if the goal's status has not been considered already\n",
    "        if not(flag1):\n",
    "            status = msg.status_list[l-1].status\n",
    "            # if SUCCESS (3)\n",
    "            if status==3:      \n",
    "                reached += 1 \n",
    "                flag1 = True\n",
    "                with out_goal:\n",
    "                    out_goal.clear_output()\n",
    "                    print('Reached:     ', reached)\n",
    "                    print('Not reached: ', not_reached)\n",
    "                \n",
    "            # if UNREACHABLE (4)\n",
    "            if status==4:      \n",
    "                not_reached += 1 \n",
    "                flag1 = True\n",
    "                with out_goal:\n",
    "                    out_goal.clear_output()\n",
    "                    print('Reached:     ', reached)\n",
    "                    print('Not reached: ', not_reached)\n",
    "                \n",
    "        # reset flag2       \n",
    "        flag2 = False\n",
    "    else:                             \n",
    "        # if the status of the overwritten goals has not been considered already\n",
    "        if not(flag2):\n",
    "            if flag1:\n",
    "                not_reached = not_reached + l-2\n",
    "            else:\n",
    "                not_reached = not_reached + l-1\n",
    "                \n",
    "            flag1 = False \n",
    "            flag2 = True\n",
    "            \n",
    "            with out_goal:\n",
    "                out_goal.clear_output()\n",
    "                print('Reached:     ', reached)\n",
    "                print('Not reached: ', not_reached)"
   ]
  },
  {
   "cell_type": "code",
   "execution_count": 19,
   "id": "a750f985",
   "metadata": {
    "ExecuteTime": {
     "end_time": "2022-05-08T13:25:14.367282Z",
     "start_time": "2022-05-08T13:25:14.336962Z"
    }
   },
   "outputs": [],
   "source": [
    "sub = rospy.Subscriber('/move_base/status', GoalStatusArray, status_callback)"
   ]
  },
  {
   "cell_type": "code",
   "execution_count": 20,
   "id": "f48f811c",
   "metadata": {
    "ExecuteTime": {
     "end_time": "2022-05-08T13:25:14.444390Z",
     "start_time": "2022-05-08T13:25:14.387991Z"
    }
   },
   "outputs": [
    {
     "data": {
      "application/vnd.jupyter.widget-view+json": {
       "model_id": "0b46870484254f6f98c88179b3d7e329",
       "version_major": 2,
       "version_minor": 0
      },
      "text/plain": [
       "Output(layout=Layout(border='2px solid black'))"
      ]
     },
     "metadata": {},
     "output_type": "display_data"
    }
   ],
   "source": [
    "display(out_goal)"
   ]
  },
  {
   "cell_type": "markdown",
   "id": "b9741b9a",
   "metadata": {},
   "source": [
    "### Manual & Assisted modalities interface\n",
    "\n",
    "When the user selects the manual or the assisted modalities through the dedicated buttons above, the simulation environment waits for him to directly publish a _Twist_ message. Moreover, in the case of the assisted mode, the message will pass through a further control that will overwrite it in order to avoid collisions, if necessary.\n",
    "\n",
    "So, whichever is the case, we need an interface that allow the user to publish a _Twist_ message. This can be done by defining some buttons and associating to them a proper callback to publish a message on the _/manual/cmd_vel_ topic. Hence, first of all let's initialize a publisher to such topic. The option _'latch=True'_ is necessary to specify to publish a message continuously on the topic until a different one is specified."
   ]
  },
  {
   "cell_type": "code",
   "execution_count": 21,
   "id": "5fb6636b",
   "metadata": {
    "ExecuteTime": {
     "end_time": "2022-05-08T13:25:14.527185Z",
     "start_time": "2022-05-08T13:25:14.488093Z"
    }
   },
   "outputs": [],
   "source": [
    "pub2 = rospy.Publisher('/manual/cmd_vel', Twist, queue_size=1, latch=True)"
   ]
  },
  {
   "cell_type": "markdown",
   "id": "86919819",
   "metadata": {},
   "source": [
    "Here we define the callbacks that will be associated to the click of each button."
   ]
  },
  {
   "cell_type": "code",
   "execution_count": 22,
   "id": "519c973e",
   "metadata": {
    "ExecuteTime": {
     "end_time": "2022-05-08T13:25:14.704650Z",
     "start_time": "2022-05-08T13:25:14.548122Z"
    }
   },
   "outputs": [],
   "source": [
    "def b1_clicked(b):\n",
    "    vel = Twist()\n",
    "    vel.linear.x = 0.5\n",
    "    vel.angular.z = 1\n",
    "    pub2.publish(vel)\n",
    "\n",
    "def b2_clicked(b):\n",
    "    vel = Twist()\n",
    "    vel.linear.x = 1.2\n",
    "    vel.angular.z = 0\n",
    "    pub2.publish(vel)\n",
    "\n",
    "def b3_clicked(b):\n",
    "    vel = Twist()\n",
    "    vel.linear.x = 0.5\n",
    "    vel.angular.z = -1\n",
    "    pub2.publish(vel)\n",
    "    \n",
    "def b4_clicked(b):\n",
    "    vel = Twist()\n",
    "    vel.linear.x = 0\n",
    "    vel.angular.z = 1.2\n",
    "    pub2.publish(vel)\n",
    "\n",
    "def b5_clicked(b):\n",
    "    vel = Twist()\n",
    "    vel.linear.x = 0\n",
    "    vel.angular.z = 0\n",
    "    pub2.publish(vel)\n",
    "\n",
    "def b6_clicked(b):\n",
    "    vel = Twist()\n",
    "    vel.linear.x = 0\n",
    "    vel.angular.z = -1.2\n",
    "    pub2.publish(vel)\n",
    "    \n",
    "def b7_clicked(b):\n",
    "    vel = Twist()\n",
    "    vel.linear.x = -0.5\n",
    "    vel.angular.z = -1\n",
    "    pub2.publish(vel)\n",
    "\n",
    "def b8_clicked(b):\n",
    "    vel = Twist()\n",
    "    vel.linear.x = -1.2\n",
    "    vel.angular.z = 0\n",
    "    pub2.publish(vel)\n",
    "\n",
    "def b9_clicked(b):\n",
    "    vel = Twist()\n",
    "    vel.linear.x = -0.5\n",
    "    vel.angular.z = 1\n",
    "    pub2.publish(vel)"
   ]
  },
  {
   "cell_type": "markdown",
   "id": "cd510129",
   "metadata": {},
   "source": [
    "In this block we define the buttons that will form the interface for controlling the robot manually."
   ]
  },
  {
   "cell_type": "code",
   "execution_count": 23,
   "id": "57b20cb6",
   "metadata": {
    "ExecuteTime": {
     "end_time": "2022-05-08T13:25:15.259313Z",
     "start_time": "2022-05-08T13:25:14.732073Z"
    }
   },
   "outputs": [],
   "source": [
    "b1 = widgets.Button(description='F-L')\n",
    "b2 = widgets.Button(description='F')\n",
    "b3 = widgets.Button(description='F-R')\n",
    "\n",
    "b4 = widgets.Button(description='L')\n",
    "b5 = widgets.Button(description='STOP')\n",
    "b6 = widgets.Button(description='R')\n",
    "\n",
    "b7 = widgets.Button(description='B-L')\n",
    "b8 = widgets.Button(description='B')\n",
    "b9 = widgets.Button(description='B-R')"
   ]
  },
  {
   "cell_type": "markdown",
   "id": "2e10cc81",
   "metadata": {},
   "source": [
    "At this point we can associate to each button the callbacks previously defined."
   ]
  },
  {
   "cell_type": "code",
   "execution_count": 24,
   "id": "7a95a04a",
   "metadata": {
    "ExecuteTime": {
     "end_time": "2022-05-08T13:25:15.326421Z",
     "start_time": "2022-05-08T13:25:15.275904Z"
    }
   },
   "outputs": [],
   "source": [
    "b1.on_click(b1_clicked)\n",
    "b2.on_click(b2_clicked)\n",
    "b3.on_click(b3_clicked)\n",
    "b4.on_click(b4_clicked)\n",
    "b5.on_click(b5_clicked)\n",
    "b6.on_click(b6_clicked)\n",
    "b7.on_click(b7_clicked)\n",
    "b8.on_click(b8_clicked)\n",
    "b9.on_click(b9_clicked)"
   ]
  },
  {
   "cell_type": "markdown",
   "id": "931c3548",
   "metadata": {},
   "source": [
    "And finally, we display the buttons to interact with."
   ]
  },
  {
   "cell_type": "code",
   "execution_count": 25,
   "id": "e63a393e",
   "metadata": {
    "ExecuteTime": {
     "end_time": "2022-05-08T13:25:15.634735Z",
     "start_time": "2022-05-08T13:25:15.360106Z"
    }
   },
   "outputs": [
    {
     "data": {
      "application/vnd.jupyter.widget-view+json": {
       "model_id": "7447cc5324ea4bc89053bac231538134",
       "version_major": 2,
       "version_minor": 0
      },
      "text/plain": [
       "VBox(children=(HBox(children=(Button(description='F-L', style=ButtonStyle()), Button(description='F', style=Bu…"
      ]
     },
     "metadata": {},
     "output_type": "display_data"
    }
   ],
   "source": [
    "widgets.VBox([widgets.HBox([b1, b2, b3]), widgets.HBox([b4, b5, b6]), widgets.HBox([b7, b8, b9])])"
   ]
  },
  {
   "cell_type": "markdown",
   "id": "ad6385ae",
   "metadata": {},
   "source": [
    "#### Collision Avoidance Algorithm"
   ]
  },
  {
   "cell_type": "markdown",
   "id": "68972ff2",
   "metadata": {},
   "source": [
    "After having overwritten the messages coming from the _/manual/cmd_vel_ topic, we want to publish them on the _/assisted/cmd_vel_. Therefore, it is necessary to define a publisher to that topic.\n",
    "Moreover, in this case, we can avoid using the _jupyros_ library since we do not need a widget to directly define the messages. In fact, it will be a proper function, called _avoid_collision()_, that will do that in charge of the user."
   ]
  },
  {
   "cell_type": "code",
   "execution_count": 26,
   "id": "1ce994d6",
   "metadata": {
    "ExecuteTime": {
     "end_time": "2022-05-08T13:25:15.710199Z",
     "start_time": "2022-05-08T13:25:15.658339Z"
    }
   },
   "outputs": [],
   "source": [
    "pub3= rospy.Publisher('/assisted/cmd_vel', Twist, queue_size= 1)"
   ]
  },
  {
   "cell_type": "markdown",
   "id": "b7e27314",
   "metadata": {},
   "source": [
    "In the next block it is defined a global variable that will be used to save the velocity messages from _/manual/cmd_vel_ and modify them, if necessary, to avoid collisions."
   ]
  },
  {
   "cell_type": "code",
   "execution_count": 27,
   "id": "3a6fe14e",
   "metadata": {
    "ExecuteTime": {
     "end_time": "2022-05-08T13:25:15.806541Z",
     "start_time": "2022-05-08T13:25:15.734097Z"
    }
   },
   "outputs": [],
   "source": [
    "ass_vel = Twist()"
   ]
  },
  {
   "cell_type": "markdown",
   "id": "06e73004",
   "metadata": {},
   "source": [
    "Here we define another output widget that can be used to display the info about the obstacles retrived by the laser scan."
   ]
  },
  {
   "cell_type": "code",
   "execution_count": 28,
   "id": "62bae13d",
   "metadata": {
    "ExecuteTime": {
     "end_time": "2022-05-08T13:25:15.966568Z",
     "start_time": "2022-05-08T13:25:15.877773Z"
    }
   },
   "outputs": [],
   "source": [
    "out_scan = widgets.Output(layout={'border':'2px solid black'})"
   ]
  },
  {
   "cell_type": "markdown",
   "id": "9b0b3df0",
   "metadata": {},
   "source": [
    "At this point, we can define the function that is in charge of implementing the actual collision avoidance algorithm: it checks the distance of the robot from the obstacles in the external environment (obtained from the _/scan_ topic) and updates its velocity in order to avoid collisions."
   ]
  },
  {
   "cell_type": "code",
   "execution_count": 29,
   "id": "ac8cf347",
   "metadata": {
    "ExecuteTime": {
     "end_time": "2022-05-08T13:25:16.051092Z",
     "start_time": "2022-05-08T13:25:15.998024Z"
    }
   },
   "outputs": [],
   "source": [
    "def avoid_collision(regions):\n",
    "    \n",
    "    global ass_vel\n",
    "    \n",
    "    # save the current linear and angular velocities obtained as the result of the user's input\n",
    "    linear_x= ass_vel.linear.x\n",
    "    angular_z= ass_vel.angular.z\n",
    "    \n",
    "    state_description = ''\n",
    "\n",
    "    # update the linear and angular velocities in order to avoid collisions\n",
    "    if regions['front'] > 0.7 and regions['fleft'] > 0.7 and regions['fright'] > 0.7:\n",
    "        state_description = 'no obstacle detected'\n",
    "\n",
    "    elif regions['front'] < 0.7 and regions['fleft'] > 0.7 and regions['fright'] > 0.7:\n",
    "        state_description = 'obstacle in the front'\n",
    "        # don't go straight\n",
    "        if (linear_x > 0) and (angular_z == 0):\n",
    "            linear_x= 0\n",
    "            angular_z= 0\n",
    "\n",
    "    elif regions['front'] > 0.7 and regions['fleft'] > 0.7 and regions['fright'] < 0.7:\n",
    "        state_description = 'obstacle in the fright'\n",
    "        # don't turn fright\n",
    "        if (linear_x > 0) and (angular_z < 0):\n",
    "            linear_x= 0\n",
    "            angular_z= 0\n",
    "\n",
    "    elif regions['front'] > 0.7 and regions['fleft'] < 0.7 and regions['fright'] > 0.7:\n",
    "        state_description = 'obstacle in the fleft'\n",
    "        # don't turn fleft\n",
    "        if (linear_x > 0) and (angular_z > 0):\n",
    "            linear_x= 0\n",
    "            angular_z= 0\n",
    "\n",
    "    elif regions['front'] < 0.7 and regions['fleft'] > 0.7 and regions['fright'] < 0.7:\n",
    "        state_description = 'obstacle in the front and fright'\n",
    "        # don't go straight or turn fright\n",
    "        if (linear_x > 0) and (angular_z <= 0):\n",
    "            linear_x= 0\n",
    "            angular_z= 0\n",
    "\n",
    "    elif regions['front'] < 0.7 and regions['fleft'] < 0.7 and regions['fright'] > 0.7:\n",
    "        state_description = 'obstacle in the front and fleft'\n",
    "        # don't go straight or turn fleft\n",
    "        if (linear_x > 0) and (angular_z >= 0):\n",
    "            linear_x= 0\n",
    "            angular_z= 0\n",
    "\n",
    "    elif regions['front'] < 0.7 and regions['fleft'] < 0.7 and regions['fright'] < 0.7:\n",
    "        state_description = 'obstacle in the front and fleft and fright'\n",
    "        # don't go straight, turn fright or fleft\n",
    "        if (linear_x > 0):\n",
    "            linear_x= 0\n",
    "            angular_z= 0\n",
    "\n",
    "    elif regions['front'] > 0.7 and regions['fleft'] < 0.7 and regions['fright'] < 0.7:\n",
    "        state_description = 'obstacle in the fleft and fright'\n",
    "        # don't turn fright or fleft\n",
    "        if (linear_x > 0) and (angular_z != 0):\n",
    "            linear_x= 0\n",
    "            angular_z= 0\n",
    "\n",
    "    else:\n",
    "        state_description = 'unknown case'\n",
    "        rospy.loginfo(regions)\n",
    "\n",
    "        \n",
    "    # update the  linear and angular velocities\n",
    "    ass_vel.linear.x= linear_x\n",
    "    ass_vel.angular.z= angular_z\n",
    "    pub3.publish(ass_vel)"
   ]
  },
  {
   "cell_type": "markdown",
   "id": "695f3f88",
   "metadata": {},
   "source": [
    "Moving further, in the next block of code are defined the callback functions of the two subscribers that are required by the algorithm: one to the _/scan_ topic and the other to the _/manual/cmd_vel_ one."
   ]
  },
  {
   "cell_type": "code",
   "execution_count": 30,
   "id": "db49a0de",
   "metadata": {
    "ExecuteTime": {
     "end_time": "2022-05-08T13:25:16.131402Z",
     "start_time": "2022-05-08T13:25:16.106464Z"
    }
   },
   "outputs": [],
   "source": [
    "# /scan callback\n",
    "def scan_callback(msg):\n",
    "    regions = {\n",
    "        'right':  min(min(msg.ranges[0:143]), 10),\n",
    "        'fright': min(min(msg.ranges[144:287]), 10),\n",
    "        'front':  min(min(msg.ranges[288:431]), 10),\n",
    "        'fleft':  min(min(msg.ranges[432:575]), 10),\n",
    "        'left':   min(min(msg.ranges[576:719]), 10),\n",
    "    }\n",
    "    avoid_collision(regions)\n",
    "\n",
    "# /manual/cmd_vel callback\n",
    "def copy_vel_callback(msg):  \n",
    "    global ass_vel\n",
    "    ass_vel= msg"
   ]
  },
  {
   "cell_type": "markdown",
   "id": "d4b4eb4c",
   "metadata": {},
   "source": [
    "Finally, we can initialize the two subscribers."
   ]
  },
  {
   "cell_type": "code",
   "execution_count": 31,
   "id": "c7cd618c",
   "metadata": {
    "ExecuteTime": {
     "end_time": "2022-05-08T13:25:16.217843Z",
     "start_time": "2022-05-08T13:25:16.162791Z"
    }
   },
   "outputs": [],
   "source": [
    "sub4 = rospy.Subscriber('/scan', LaserScan, scan_callback)\n",
    "sub5 = rospy.Subscriber('/manual/cmd_vel', Twist, copy_vel_callback)"
   ]
  },
  {
   "cell_type": "markdown",
   "id": "a7921e27",
   "metadata": {},
   "source": [
    "## Plotting both the robot's position and the data from the laser scanner"
   ]
  },
  {
   "cell_type": "markdown",
   "id": "4c603c95",
   "metadata": {},
   "source": [
    "Define some variables to store the both the data about the robot's position and the ones from the laser scanner with which it is equipped."
   ]
  },
  {
   "cell_type": "code",
   "execution_count": 32,
   "id": "2b7f21dd",
   "metadata": {
    "ExecuteTime": {
     "end_time": "2022-05-08T13:25:16.287948Z",
     "start_time": "2022-05-08T13:25:16.235785Z"
    }
   },
   "outputs": [],
   "source": [
    "loc_map_x, loc_map_y = [], []\n",
    "glob_map_x, glob_map_y = [], []\n",
    "pos_x, pos_y = [], []\n",
    "count = 0"
   ]
  },
  {
   "cell_type": "markdown",
   "id": "ede7ba16",
   "metadata": {},
   "source": [
    "First of all we can build a local map using the data retrieved by the laser scanner mounted on the robot. This map simply consists in computing a cloud of points wrt. the local frame attached to the robot."
   ]
  },
  {
   "cell_type": "code",
   "execution_count": 33,
   "id": "d7dd5963",
   "metadata": {
    "ExecuteTime": {
     "end_time": "2022-05-08T13:25:16.350490Z",
     "start_time": "2022-05-08T13:25:16.309046Z"
    }
   },
   "outputs": [],
   "source": [
    "def build_localMap(msg):\n",
    "    global loc_map_x, loc_map_y \n",
    "        \n",
    "    # BUILD THE LOCAL MAP\n",
    "    th = -np.pi/2           # initial angle \n",
    "    d_th = np.pi/90         # incremental step \n",
    "    \n",
    "    # copy the ranges measured by the sensor into a list\n",
    "    d = msg.ranges\n",
    "    \n",
    "    # Save 90 out of the 720 points collected by the laser scanner\n",
    "    for i in range(0, 720, 8): \n",
    "        # compute the coordinates of the i-th point wrt. the local fram\n",
    "        loc_point_x = d[i] * np.cos(th)\n",
    "        loc_point_y = d[i] * np.sin(th)\n",
    "        \n",
    "        # add the current point the local map\n",
    "        loc_map_x.append(loc_point_x)\n",
    "        loc_map_y.append(loc_point_y)\n",
    "        \n",
    "        # update the angle covered by the laser scanner\n",
    "        th = th + d_th"
   ]
  },
  {
   "cell_type": "markdown",
   "id": "721ee203",
   "metadata": {},
   "source": [
    "At this point, in order to make the data from the laser scan actually useful, we have to convert the coordinates of the local map's points in the global frame of reference. This can be done by taking into account the pose in which the robot made the measurements, available from the _/odom_ topic."
   ]
  },
  {
   "cell_type": "code",
   "execution_count": 34,
   "id": "4346c0fa",
   "metadata": {
    "ExecuteTime": {
     "end_time": "2022-05-08T13:25:16.461747Z",
     "start_time": "2022-05-08T13:25:16.378883Z"
    }
   },
   "outputs": [],
   "source": [
    "def build_globalMap(msg):\n",
    "    global loc_map_x, loc_map_y, glob_map_x, glob_map_y, pos_x, pos_y, count\n",
    "    count+= 1\n",
    "    \n",
    "    # control the dimension of the lists where the robot's x and y position are saved,\n",
    "    # save only the 500 most updated data\n",
    "    pos_length = len(pos_x)\n",
    "    if (pos_length > 500):\n",
    "        pos_x, pos_y = [], []\n",
    "        \n",
    "    # save 1 datum every 10 to avoid the dimension increasing too fast\n",
    "    if count == 50:\n",
    "        pos_x.append(msg.pose.pose.position.x)\n",
    "        pos_y.append(msg.pose.pose.position.y)\n",
    "        count = 0\n",
    "    \n",
    "    # control the dimension of the lists where the global map is saved,\n",
    "    # save only the 1800 most updated data\n",
    "    glob_length = len(glob_map_x)\n",
    "    if (glob_length > 1800):\n",
    "        glob_map_x, glob_map_y = [], []\n",
    "        \n",
    "    # get the quaternion that describe the current orientation of the robot and transform it to a rotational matrix\n",
    "    q = [msg.pose.pose.orientation.x, msg.pose.pose.orientation.y, msg.pose.pose.orientation.z, msg.pose.pose.orientation.w]\n",
    "    R = quaternion_matrix(q)\n",
    "    #print(R)\n",
    "    \n",
    "    # get the current position of the robot\n",
    "    p = [msg.pose.pose.position.x, msg.pose.pose.position.y, msg.pose.pose.position.z, 1]\n",
    "    \n",
    "    loc_length = len(loc_map_x)\n",
    "    if (loc_length != 0):\n",
    "        for i in range(0, 90): \n",
    "            # move from local to global coordinates\n",
    "            loc_point = [loc_map_x[loc_length-1-i], loc_map_y[loc_length-1-i], 0, 1]\n",
    "            glob_point = np.dot(R, loc_point) + p\n",
    "            #glob_point = quaternion_multiply(quaternion_multiply(q, loc_point), quaternion_conjugate(q)) + p\n",
    "\n",
    "            # add the current point to the global map\n",
    "            glob_map_x.append(glob_point[0])\n",
    "            glob_map_y.append(glob_point[1])\n",
    "         "
   ]
  },
  {
   "cell_type": "markdown",
   "id": "afbb8519",
   "metadata": {},
   "source": [
    "Here we define two subscribers:\n",
    " - _sub6_: to the _/scan_ topic, in order to collect the points that form the local map;\n",
    " - _sub7_: to the _/odom_ topic, in order to transform the coordinates of the collected points in the global frame of reference; "
   ]
  },
  {
   "cell_type": "code",
   "execution_count": 35,
   "id": "ba620b34",
   "metadata": {
    "ExecuteTime": {
     "end_time": "2022-05-08T13:25:16.554222Z",
     "start_time": "2022-05-08T13:25:16.495425Z"
    }
   },
   "outputs": [],
   "source": [
    "sub6 = rospy.Subscriber('/scan', LaserScan, build_localMap)\n",
    "sub7 = rospy.Subscriber('/odom', Odometry, build_globalMap)"
   ]
  },
  {
   "cell_type": "markdown",
   "id": "ed746db5",
   "metadata": {},
   "source": [
    "In this final block of code we plot the information collected before."
   ]
  },
  {
   "cell_type": "code",
   "execution_count": 36,
   "id": "2ed46612",
   "metadata": {
    "ExecuteTime": {
     "end_time": "2022-05-08T13:25:18.476930Z",
     "start_time": "2022-05-08T13:25:16.581632Z"
    }
   },
   "outputs": [
    {
     "data": {
      "application/vnd.jupyter.widget-view+json": {
       "model_id": "1f9e2d357b8846ff9504c5194516ce0c",
       "version_major": 2,
       "version_minor": 0
      },
      "image/png": "[encoded data removed]",
      "text/html": [
       "\n",
       "            <div style=\"display: inline-block;\">\n",
       "                <div class=\"jupyter-widgets widget-label\" style=\"text-align: center;\">\n",
       "                    Figure\n",
       "                </div>\n",
       "                <img src='data:image/png;base64,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' width=640.0/>\n",
       "            </div>\n",
       "        "
      ],
      "text/plain": [
       "Canvas(toolbar=Toolbar(toolitems=[('Home', 'Reset original view', 'home', 'home'), ('Back', 'Back to previous …"
      ]
     },
     "metadata": {},
     "output_type": "display_data"
    }
   ],
   "source": [
    "%matplotlib widget\n",
    "\n",
    "fig = plt.figure()\n",
    "ax = plt.axes(xlim=(-10, 10), ylim=(-10, 10))\n",
    "points, = ax.plot([], [], 'ro', linewidth=0.3, markersize=0.3)\n",
    "line, = ax.plot([], [], lw=2)\n",
    "plt.title(\"Robot's position\")\n",
    "plt.xlabel('x [m]')\n",
    "plt.ylabel('y [m]')\n",
    "\n",
    "def init():\n",
    "    line.set_data([], [])\n",
    "    points.set_data([], [])\n",
    "    return line, points,\n",
    "\n",
    "def animate(frame):\n",
    "    line.set_data(pos_x, pos_y)\n",
    "    points.set_data(glob_map_x, glob_map_y)\n",
    "    return line, points,\n",
    "\n",
    "anim = FuncAnimation(fig, animate, init_func=init)\n",
    "plt.show()"
   ]
  }
 ],
 "metadata": {
  "kernelspec": {
   "display_name": "Python 3 (ipykernel)",
   "language": "python",
   "name": "python3"
  },
  "language_info": {
   "codemirror_mode": {
    "name": "ipython",
    "version": 3
   },
   "file_extension": ".py",
   "mimetype": "text/x-python",
   "name": "python",
   "nbconvert_exporter": "python",
   "pygments_lexer": "ipython3",
   "version": "3.8.10"
  },
  "toc": {
   "base_numbering": 1,
   "nav_menu": {},
   "number_sections": true,
   "sideBar": true,
   "skip_h1_title": false,
   "title_cell": "Table of Contents",
   "title_sidebar": "Contents",
   "toc_cell": false,
   "toc_position": {},
   "toc_section_display": true,
   "toc_window_display": false
  },
  "varInspector": {
   "cols": {
    "lenName": 16,
    "lenType": 16,
    "lenVar": 40
   },
   "kernels_config": {
    "python": {
     "delete_cmd_postfix": "",
     "delete_cmd_prefix": "del ",
     "library": "var_list.py",
     "varRefreshCmd": "print(var_dic_list())"
    },
    "r": {
     "delete_cmd_postfix": ") ",
     "delete_cmd_prefix": "rm(",
     "library": "var_list.r",
     "varRefreshCmd": "cat(var_dic_list()) "
    }
   },
   "types_to_exclude": [
    "module",
    "function",
    "builtin_function_or_method",
    "instance",
    "_Feature"
   ],
   "window_display": false
  }
 },
 "nbformat": 4,
 "nbformat_minor": 5
}
